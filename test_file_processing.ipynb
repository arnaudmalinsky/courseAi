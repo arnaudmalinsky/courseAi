{
 "cells": [
  {
   "cell_type": "code",
   "execution_count": null,
   "metadata": {},
   "outputs": [],
   "source": [
    "from docx import Document\n",
    "from docx.text.pagebreak import RenderedPageBreak"
   ]
  },
  {
   "cell_type": "code",
   "execution_count": null,
   "metadata": {},
   "outputs": [],
   "source": [
    "def extract_document_structure_with_details(docx_path):\n",
    "    document_structure = []\n",
    "    char_index = 0  # Running character index for the document\n",
    "    \n",
    "    doc = Document(docx_path)\n",
    "    for i, paragraph in enumerate(doc.paragraphs):\n",
    "        style_name = paragraph.style.name\n",
    "        text = paragraph.text.strip()\n",
    "        paragraph_details = {\n",
    "            \"index\": i,\n",
    "            \"type\": \"title\" if \"Heading\" in style_name else \"paragraph\",\n",
    "            \"text\": text,\n",
    "            \"character_index\": char_index,\n",
    "            \"contains_page_break\": any(\"\\x0c\" in run.text for run in paragraph.runs)\n",
    "        }\n",
    "        char_index += len(text) + 1  # Account for the paragraph text length and a newline\n",
    "        document_structure.append(paragraph_details)\n",
    "\n",
    "    return document_structure\n"
   ]
  },
  {
   "cell_type": "code",
   "execution_count": null,
   "metadata": {},
   "outputs": [],
   "source": [
    "def breakdown_paragraph(text, max_length=600, overlap=50):\n",
    "    paragraphs = []\n",
    "    while len(text) > max_length:\n",
    "        split_point = max_length - overlap\n",
    "        paragraphs.append(text[:split_point].strip())\n",
    "        text = text[split_point:].strip()\n",
    "    paragraphs.append(text)\n",
    "    return paragraphs"
   ]
  },
  {
   "cell_type": "code",
   "execution_count": null,
   "metadata": {},
   "outputs": [],
   "source": [
    "def extract_document_structure_with_details(docx_path):\n",
    "    document_structure = []\n",
    "    char_index = 0  # Running character index for the document\n",
    "    heading_context = {1: None, 2: None, 3: None}  # Track context for heading levels\n",
    "\n",
    "    doc = Document(docx_path)\n",
    "    for i, paragraph in enumerate(doc.paragraphs):\n",
    "        style_name = paragraph.style.name\n",
    "        text = paragraph.text.strip()\n",
    "\n",
    "        if text:  # Only process non-empty paragraphs\n",
    "            if \"Heading\" in style_name:  # Detect titles based on heading styles\n",
    "                try:\n",
    "                    heading_level = int(style_name.split()[-1])  # Extract numeric level\n",
    "                    if heading_level in heading_context:\n",
    "                        heading_context[heading_level] = text\n",
    "                        # Clear lower-level contexts\n",
    "                        for lvl in range(heading_level + 1, 4):\n",
    "                            heading_context[lvl] = None\n",
    "                except ValueError:\n",
    "                    heading_level = None\n",
    "\n",
    "                document_structure.append({\n",
    "                    \"index\": i,\n",
    "                    \"type\": \"title\",\n",
    "                    \"text\": text,\n",
    "                    \"character_index\": char_index,\n",
    "                    \"heading_level_1_context\": heading_context[1],\n",
    "                    \"heading_level_2_context\": heading_context[2],\n",
    "                    \"heading_level_3_context\": heading_context[3],\n",
    "                    \"contains_page_break\": any(\"\\x0c\" in run.text for run in paragraph.runs)\n",
    "                })\n",
    "                char_index += len(text) + 1  # Update character index\n",
    "\n",
    "            else:\n",
    "                # Break down long paragraphs\n",
    "                sub_paragraphs = breakdown_paragraph(text)\n",
    "                for sub_paragraph in sub_paragraphs:\n",
    "                    document_structure.append({\n",
    "                        \"index\": i,\n",
    "                        \"type\": \"paragraph\",\n",
    "                        \"text\": sub_paragraph,\n",
    "                        \"character_index\": char_index,\n",
    "                        \"contains_page_break\": any(\"\\x0c\" in run.text for run in paragraph.runs),\n",
    "                        \"heading_level_1_context\": heading_context[1],\n",
    "                        \"heading_level_2_context\": heading_context[2],\n",
    "                        \"heading_level_3_context\": heading_context[3]\n",
    "                    })\n",
    "                    char_index += len(sub_paragraph) + 1  # Update character index\n",
    "\n",
    "    return document_structure"
   ]
  },
  {
   "cell_type": "code",
   "execution_count": null,
   "metadata": {},
   "outputs": [],
   "source": [
    "\n",
    "# Example usage\n",
    "docx_file_path = \"C:/Users/bossa/Downloads/Copie de DF_C.docx\"  # Replace with your Word document file path\n",
    "structure = extract_document_structure_with_details(docx_file_path)\n",
    "\n",
    "for element in structure:\n",
    "    print(f\"Type: {element['type'].capitalize()}, Index: {element['index']}\")\n",
    "    print(f\"Text: {element['text']}\")\n",
    "    print(f\"Character Index: {element['character_index']}\")\n",
    "    print(f\"Contains Page Break: {element['contains_page_break']}\")\n",
    "    print(f\"Heading Level 1 Context: {element['heading_level_1_context']}\")\n",
    "    print(f\"Heading Level 2 Context: {element['heading_level_2_context']}\")\n",
    "    print(f\"Heading Level 3 Context: {element['heading_level_3_context']}\")\n",
    "    print(\"---\")\n"
   ]
  },
  {
   "cell_type": "code",
   "execution_count": null,
   "metadata": {},
   "outputs": [],
   "source": [
    "structure[12:35]"
   ]
  },
  {
   "cell_type": "code",
   "execution_count": null,
   "metadata": {},
   "outputs": [],
   "source": [
    "from openpyxl import Workbook\n",
    "\n",
    "def save_structure_to_excel(structure, excel_path):\n",
    "    wb = Workbook()\n",
    "    ws = wb.active\n",
    "    ws.title = \"Document Structure\"\n",
    "\n",
    "    # Header row\n",
    "    ws.append([\"Index\", \"Type\", \"Text\", \"Character Index\", \"Title Context\",\"Title lvl2\",\"Title lvl3\"])\n",
    "\n",
    "    # Write structure data\n",
    "    for element in structure:\n",
    "        ws.append([\n",
    "            element[\"index\"],\n",
    "            element[\"type\"],\n",
    "            element[\"text\"],\n",
    "            element[\"character_index\"],\n",
    "            element[\"heading_level_1_context\"],\n",
    "            element[\"heading_level_2_context\"],\n",
    "            element.get(\"heading_level_3_context\", \"\")\n",
    "        ])\n",
    "\n",
    "    # Save to file\n",
    "    wb.save(excel_path)\n",
    "\n"
   ]
  },
  {
   "cell_type": "code",
   "execution_count": null,
   "metadata": {},
   "outputs": [],
   "source": [
    "# Example usage\n",
    "excel_file_path = \"DF_C_document_structure.xlsx\"  # Replace with your desired file name\n",
    "save_structure_to_excel(structure, excel_file_path)\n",
    "print(f\"Structure saved to {excel_file_path}\")"
   ]
  },
  {
   "cell_type": "code",
   "execution_count": null,
   "metadata": {},
   "outputs": [],
   "source": []
  }
 ],
 "metadata": {
  "kernelspec": {
   "display_name": "Python 3.13.1 ('courseai')",
   "language": "python",
   "name": "python3"
  },
  "language_info": {
   "codemirror_mode": {
    "name": "ipython",
    "version": 3
   },
   "file_extension": ".py",
   "mimetype": "text/x-python",
   "name": "python",
   "nbconvert_exporter": "python",
   "pygments_lexer": "ipython3",
   "version": "3.11.11"
  },
  "orig_nbformat": 4,
  "vscode": {
   "interpreter": {
    "hash": "ae099676c5c3a28a12ada4aa7c3c13de03e55a1d9a6269962a0d3f3e844dcf12"
   }
  }
 },
 "nbformat": 4,
 "nbformat_minor": 2
}
