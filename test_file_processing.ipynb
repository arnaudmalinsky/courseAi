{
 "cells": [
  {
   "cell_type": "code",
   "execution_count": 2,
   "metadata": {},
   "outputs": [],
   "source": [
    "from text_processing.process_documents import extract_document_structure_with_details\n",
    "from openpyxl import Workbook"
   ]
  },
  {
   "cell_type": "code",
   "execution_count": null,
   "metadata": {},
   "outputs": [],
   "source": [
    "\n",
    "# Example usage\n",
    "docx_file_path = \"C:/Users/bossa/Downloads/Copie de DF_C.docx\"  # Replace with your Word document file path\n",
    "structure = extract_document_structure_with_details(docx_file_path)\n",
    "\n",
    "for element in structure:\n",
    "    print(f\"Type: {element['type'].capitalize()}, Index: {element['index']}\")\n",
    "    print(f\"Text: {element['text']}\")\n",
    "    print(f\"Character Index: {element['character_index']}\")\n",
    "    print(f\"Contains Page Break: {element['contains_page_break']}\")\n",
    "    print(f\"Heading Level 1 Context: {element['heading_level_1_context']}\")\n",
    "    print(f\"Heading Level 2 Context: {element['heading_level_2_context']}\")\n",
    "    print(f\"Heading Level 3 Context: {element['heading_level_3_context']}\")\n",
    "    print(\"---\")\n"
   ]
  },
  {
   "cell_type": "code",
   "execution_count": null,
   "metadata": {},
   "outputs": [],
   "source": [
    "structure[12:35]"
   ]
  },
  {
   "cell_type": "code",
   "execution_count": null,
   "metadata": {},
   "outputs": [],
   "source": [
    "def save_structure_to_excel(structure, excel_path):\n",
    "    wb = Workbook()\n",
    "    ws = wb.active\n",
    "    ws.title = \"Document Structure\"\n",
    "\n",
    "    # Header row\n",
    "    ws.append([\"Index\", \"Type\", \"Text\", \"Character Index\", \"Title Context\",\"Title lvl2\",\"Title lvl3\"])\n",
    "\n",
    "    # Write structure data\n",
    "    for element in structure:\n",
    "        ws.append([\n",
    "            element[\"index\"],\n",
    "            element[\"type\"],\n",
    "            element[\"text\"],\n",
    "            element[\"character_index\"],\n",
    "            element[\"heading_level_1_context\"],\n",
    "            element[\"heading_level_2_context\"],\n",
    "            element.get(\"heading_level_3_context\", \"\")\n",
    "        ])\n",
    "\n",
    "    # Save to file\n",
    "    wb.save(excel_path)\n",
    "\n"
   ]
  },
  {
   "cell_type": "code",
   "execution_count": null,
   "metadata": {},
   "outputs": [],
   "source": [
    "# Example usage\n",
    "excel_file_path = \"DF_C_document_structure.xlsx\"  # Replace with your desired file name\n",
    "save_structure_to_excel(structure, excel_file_path)\n",
    "print(f\"Structure saved to {excel_file_path}\")"
   ]
  },
  {
   "cell_type": "code",
   "execution_count": null,
   "metadata": {},
   "outputs": [],
   "source": []
  }
 ],
 "metadata": {
  "kernelspec": {
   "display_name": "courseai",
   "language": "python",
   "name": "python3"
  },
  "language_info": {
   "codemirror_mode": {
    "name": "ipython",
    "version": 3
   },
   "file_extension": ".py",
   "mimetype": "text/x-python",
   "name": "python",
   "nbconvert_exporter": "python",
   "pygments_lexer": "ipython3",
   "version": "3.11.11"
  },
  "orig_nbformat": 4
 },
 "nbformat": 4,
 "nbformat_minor": 2
}
